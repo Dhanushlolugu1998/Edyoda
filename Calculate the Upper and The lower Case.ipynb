{
 "cells": [
  {
   "cell_type": "markdown",
   "id": "b27b4278-917e-40cf-9a27-fc9a373f23ea",
   "metadata": {},
   "source": [
    "# Write a Python function that accepts a string and calculate the number of upper case letters and lower case letters.\n",
    "\n",
    "## Sample String : 'The quick Brow Fox'\n",
    "\n",
    "## Expected Output :\n",
    "- No. of Upper case characters : 3\n",
    "- No. of Lower case Characters : 12"
   ]
  },
  {
   "cell_type": "code",
   "execution_count": 15,
   "id": "2d798a69-0042-403c-8adc-bea47842d2d7",
   "metadata": {},
   "outputs": [],
   "source": [
    "def count_upper_lower_Characters(input_str):\n",
    "    upper_count=0\n",
    "    lower_count=0\n",
    "    for char in input_str:\n",
    "        if char.isupper():\n",
    "            upper_count+=1\n",
    "        elif char.islower():\n",
    "            lower_count+=1\n",
    "\n",
    "    return upper_count,lower_count"
   ]
  },
  {
   "cell_type": "code",
   "execution_count": 16,
   "id": "2e9fa657-c662-4223-b1d0-78c139487ca9",
   "metadata": {},
   "outputs": [
    {
     "name": "stdin",
     "output_type": "stream",
     "text": [
      "Enter a String : The quick Brow Fox\n"
     ]
    },
    {
     "name": "stdout",
     "output_type": "stream",
     "text": [
      "No of Upper Case Characters : 3\n",
      "No of LOwer Case Characters : 12\n"
     ]
    }
   ],
   "source": [
    "user_input=input(\"Enter a String :\")\n",
    "Upper_Result , Lower_Result = count_upper_lower_Characters(user_input)\n",
    "print(\"No of Upper Case Characters :\",Upper_Result)\n",
    "print(\"No of LOwer Case Characters :\",Lower_Result)"
   ]
  }
 ],
 "metadata": {
  "kernelspec": {
   "display_name": "Python 3 (ipykernel)",
   "language": "python",
   "name": "python3"
  },
  "language_info": {
   "codemirror_mode": {
    "name": "ipython",
    "version": 3
   },
   "file_extension": ".py",
   "mimetype": "text/x-python",
   "name": "python",
   "nbconvert_exporter": "python",
   "pygments_lexer": "ipython3",
   "version": "3.10.9"
  }
 },
 "nbformat": 4,
 "nbformat_minor": 5
}
