{
 "cells": [
  {
   "cell_type": "markdown",
   "id": "b431e01c-a796-450f-8ccc-899d7831bd7e",
   "metadata": {},
   "source": [
    "# Fun with Lists and Tuples"
   ]
  },
  {
   "cell_type": "markdown",
   "id": "14bca916-6d7e-4e28-bf4b-dde7a4e2a795",
   "metadata": {},
   "source": [
    "# Question : 1\n",
    "\n",
    "## Write a Python program to get a list, sorted in increasing order by the last element in each tuple from a given list of non-empty tuples\n",
    "\n",
    "\n",
    "\n",
    "- Sample List : [(2, 5), (1, 2), (4, 4), (2, 3), (2, 1)]\n",
    "\n",
    "- Expected Result : [(2, 1), (1, 2), (2, 3), (4, 4), (2, 5)]"
   ]
  },
  {
   "cell_type": "code",
   "execution_count": null,
   "id": "a8bdcb4a-4104-4a71-b8ef-45c224a07b79",
   "metadata": {},
   "outputs": [],
   "source": [
    "def sort_by_last_element(input_list):\n",
    "    return sorted(input_list,key=lambda x:x[-1])\n",
    "sample_list = [(2, 5), (1, 2), (4, 4), (2, 3), (2, 1)]\n",
    "output_list = sort_by_last_element(sample_list)"
   ]
  },
  {
   "cell_type": "code",
   "execution_count": 12,
   "id": "7630c9b0-4d5f-4edb-9d0b-6dd9bdeb173a",
   "metadata": {},
   "outputs": [
    {
     "name": "stdout",
     "output_type": "stream",
     "text": [
      "Expected Result :  [(2, 1), (1, 2), (2, 3), (4, 4), (2, 5)]\n"
     ]
    }
   ],
   "source": [
    "print(\"Expected Result : \", output_list)"
   ]
  },
  {
   "cell_type": "markdown",
   "id": "65bd1010-4795-4e8b-9a26-9d41082d4109",
   "metadata": {},
   "source": [
    "## Alternate :"
   ]
  },
  {
   "cell_type": "code",
   "execution_count": 11,
   "id": "f7c18fed-1ba6-415a-b1bc-7d0a7e3b8ad1",
   "metadata": {},
   "outputs": [
    {
     "data": {
      "text/plain": [
       "[(2, 1), (1, 2), (2, 3), (4, 4), (2, 5)]"
      ]
     },
     "execution_count": 11,
     "metadata": {},
     "output_type": "execute_result"
    }
   ],
   "source": [
    "sample_list= [(2, 5), (1, 2), (4, 4), (2, 3), (2, 1)]\n",
    "\n",
    "sorted(sample_list , key =lambda x:x[1])"
   ]
  },
  {
   "cell_type": "code",
   "execution_count": null,
   "id": "a2f4b1d9-8e73-4e06-bb35-dabbafaa9d7d",
   "metadata": {},
   "outputs": [],
   "source": []
  }
 ],
 "metadata": {
  "kernelspec": {
   "display_name": "Python 3 (ipykernel)",
   "language": "python",
   "name": "python3"
  },
  "language_info": {
   "codemirror_mode": {
    "name": "ipython",
    "version": 3
   },
   "file_extension": ".py",
   "mimetype": "text/x-python",
   "name": "python",
   "nbconvert_exporter": "python",
   "pygments_lexer": "ipython3",
   "version": "3.10.9"
  }
 },
 "nbformat": 4,
 "nbformat_minor": 5
}
