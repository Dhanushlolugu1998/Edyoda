{
 "cells": [
  {
   "cell_type": "markdown",
   "id": "0340bba3-df5d-4650-a78f-cb7ae9f1e7bf",
   "metadata": {},
   "source": [
    "## Write a Python function to sum all the numbers in a list.\n",
    "\n",
    "### Sample List : (8, 2, 3, 0, 7)\n",
    "### Expected Output : 20\n",
    "\n",
    "- Explanation:\n",
    "- Summation should like 8+2+3+0+7 = 20"
   ]
  },
  {
   "cell_type": "code",
   "execution_count": 1,
   "id": "6db10fbe-2d63-4751-afed-edd4d045f08f",
   "metadata": {},
   "outputs": [],
   "source": [
    "def sum_of_all_numbers(nums):\n",
    "    total = sum(nums)\n",
    "    return total"
   ]
  },
  {
   "cell_type": "code",
   "execution_count": 2,
   "id": "16e576b0-256a-47a0-adf5-504c1cf5f2bd",
   "metadata": {},
   "outputs": [],
   "source": [
    "sample_list=[8,2,3,0,7]\n",
    "result = sum_of_all_numbers(sample_list)\n"
   ]
  },
  {
   "cell_type": "code",
   "execution_count": 5,
   "id": "e62dd2a5-c380-42d8-b16b-eb0f24e7cd08",
   "metadata": {},
   "outputs": [
    {
     "name": "stdout",
     "output_type": "stream",
     "text": [
      "20\n"
     ]
    }
   ],
   "source": [
    "print(result)"
   ]
  },
  {
   "cell_type": "markdown",
   "id": "8d06e034-8312-4ad4-90b8-bbc256117943",
   "metadata": {},
   "source": [
    "## Alternative"
   ]
  },
  {
   "cell_type": "code",
   "execution_count": 11,
   "id": "68ad85af-077f-4d98-a408-10a7e8a08049",
   "metadata": {},
   "outputs": [
    {
     "name": "stdin",
     "output_type": "stream",
     "text": [
      "Enter the List of Numbers for Summation :  8+2+3+0+7\n"
     ]
    },
    {
     "name": "stdout",
     "output_type": "stream",
     "text": [
      "Sum of the Numbers :  20\n"
     ]
    }
   ],
   "source": [
    "def sum_of_all_numbers(nums):\n",
    "    total = sum(nums)\n",
    "    return total\n",
    "user_input=input(\"Enter the List of Numbers for Summation : \" )\n",
    "user_input=[int(num) for num in user_input.split('+')]\n",
    "result= sum_of_all_numbers(user_input)\n",
    "print(\"Sum of the Numbers : \",result)"
   ]
  },
  {
   "cell_type": "code",
   "execution_count": null,
   "id": "5ea71ec5-c97f-4ee2-bfe9-cd6ebbdf8a90",
   "metadata": {},
   "outputs": [],
   "source": []
  }
 ],
 "metadata": {
  "kernelspec": {
   "display_name": "Python 3 (ipykernel)",
   "language": "python",
   "name": "python3"
  },
  "language_info": {
   "codemirror_mode": {
    "name": "ipython",
    "version": 3
   },
   "file_extension": ".py",
   "mimetype": "text/x-python",
   "name": "python",
   "nbconvert_exporter": "python",
   "pygments_lexer": "ipython3",
   "version": "3.10.9"
  }
 },
 "nbformat": 4,
 "nbformat_minor": 5
}
