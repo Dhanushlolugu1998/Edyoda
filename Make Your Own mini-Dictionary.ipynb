{
 "cells": [
  {
   "cell_type": "markdown",
   "id": "b6d56b7a-4850-475e-b77f-2860a4ccf749",
   "metadata": {},
   "source": [
    "# Make Your Own mini-Dictionary"
   ]
  },
  {
   "cell_type": "markdown",
   "id": "b84db520-8ed2-4619-aa05-e5829101f442",
   "metadata": {},
   "source": [
    "# Question : 2\n",
    "## Write a Python program to print a dictionary whose keys should be the alphabet from a-z and the value should be corresponding ASCII values\n",
    "\n",
    "\n",
    "\n",
    "- Sample Output : {'a': 97, 'b': 98, 'c': 99, 'd': 100, 'e': 101, 'f': 102, 'g': 103, 'h': 104, 'i': 105, 'j': 106, 'k': 107, 'l': 108, 'm': 109, 'n': 110, 'o': 111, 'p': 112, 'q': 113, 'r': 114, 's': 115, 't': 116, 'u': 117, 'v': 118, 'w': 119, 'x': 120, 'y': 121, 'z': 122}"
   ]
  },
  {
   "cell_type": "code",
   "execution_count": 13,
   "id": "3eb20a46-436f-466e-bfde-8b391b29b2c2",
   "metadata": {},
   "outputs": [],
   "source": [
    "def create_ascii_dict():\n",
    "    ascii_dict ={}\n",
    "    for char in range(ord('a'),ord('z')+1):\n",
    "        ascii_dict[chr(char)]=char\n",
    "    return ascii_dict\n",
    "output_dict = create_ascii_dict()\n"
   ]
  },
  {
   "cell_type": "code",
   "execution_count": 14,
   "id": "8ae23359-0bc2-42b5-b33e-d6eabe9bd9ad",
   "metadata": {},
   "outputs": [
    {
     "name": "stdout",
     "output_type": "stream",
     "text": [
      "{'a': 97, 'b': 98, 'c': 99, 'd': 100, 'e': 101, 'f': 102, 'g': 103, 'h': 104, 'i': 105, 'j': 106, 'k': 107, 'l': 108, 'm': 109, 'n': 110, 'o': 111, 'p': 112, 'q': 113, 'r': 114, 's': 115, 't': 116, 'u': 117, 'v': 118, 'w': 119, 'x': 120, 'y': 121, 'z': 122}\n"
     ]
    }
   ],
   "source": [
    "print(output_dict)"
   ]
  },
  {
   "cell_type": "code",
   "execution_count": null,
   "id": "e297e22e-9e07-4145-bb67-3061691625ae",
   "metadata": {},
   "outputs": [],
   "source": []
  }
 ],
 "metadata": {
  "kernelspec": {
   "display_name": "Python 3 (ipykernel)",
   "language": "python",
   "name": "python3"
  },
  "language_info": {
   "codemirror_mode": {
    "name": "ipython",
    "version": 3
   },
   "file_extension": ".py",
   "mimetype": "text/x-python",
   "name": "python",
   "nbconvert_exporter": "python",
   "pygments_lexer": "ipython3",
   "version": "3.10.9"
  }
 },
 "nbformat": 4,
 "nbformat_minor": 5
}
