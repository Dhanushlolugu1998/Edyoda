{
 "cells": [
  {
   "cell_type": "markdown",
   "id": "c0e6ed69",
   "metadata": {},
   "source": []
  },
  {
   "cell_type": "code",
   "execution_count": 13,
   "id": "593a6e55",
   "metadata": {},
   "outputs": [
    {
     "name": "stdin",
     "output_type": "stream",
     "text": [
      "The starting number is :  0\n",
      "The ending number is : 50\n"
     ]
    },
    {
     "name": "stdout",
     "output_type": "stream",
     "text": [
      "Expected Output : 1 1 2 3 5 8 13 21 34 "
     ]
    }
   ],
   "source": [
    "# Fibonacci series using WHILE Loop\n",
    "start = int(input(\"The starting number is : \"))   # Taking Input from USER\n",
    "end = int(input(\"The ending number is :\"))        # Taking Input from USER\n",
    "first_num=0\n",
    "second_num=1\n",
    "print(\"Expected Output :\",end=\" \")   \n",
    "while second_num<end:             # Using WHILE Loop\n",
    "    print(second_num ,end=\" \")    # Printing Fabonacci Series\n",
    "    first_num,second_num = second_num ,first_num + second_num\n"
   ]
  },
  {
   "cell_type": "markdown",
   "id": "ec9b62b0",
   "metadata": {},
   "source": []
  },
  {
   "cell_type": "code",
   "execution_count": 14,
   "id": "4cf45b90",
   "metadata": {},
   "outputs": [
    {
     "name": "stdout",
     "output_type": "stream",
     "text": [
      "Expected Output : 1 1 2 3 5 8 13 21 34 "
     ]
    }
   ],
   "source": [
    "# ***Fibonacci Series using FOR Loop***\n",
    "\n",
    "# The Variables first_num and second_num are inatialized with 1 and 1\n",
    "first_num = 1      # value of first_num =1 is given to get required output\n",
    "second_num = 1\n",
    "print(\"Expected Output :\",end=\" \")\n",
    "# The \"for\" runs 50 times using range(50)   \n",
    "for third_num in range(50):    # Using FOR Loop\n",
    "    if first_num>50:         # It checks if first_num exceeds 50 using \"if statement.\"\n",
    "        break                # If exceeds , then loop is terminated using \"break statement\"\n",
    "    third_num= first_num + second_num  # Storing the first_num and second_num in thrid_num using concatenation Operator\n",
    "    print( first_num, end=\" \")     # current value of first_num will be updateded everytime.and [end=\" \" parameter in the print statemet is used to display the numbers in a single line with spaces between them]\n",
    "    # Updating current values to first_num and second_num\n",
    "    first_num=second_num           \n",
    "    second_num=third_num\n",
    "    "
   ]
  },
  {
   "cell_type": "markdown",
   "id": "32b64059",
   "metadata": {},
   "source": []
  },
  {
   "cell_type": "code",
   "execution_count": 15,
   "id": "401867de",
   "metadata": {},
   "outputs": [
    {
     "name": "stdout",
     "output_type": "stream",
     "text": [
      "Expected Output : 1 1 2 3 5 8 13 21 34 "
     ]
    }
   ],
   "source": [
    "# Alternative using WHILE Loop\n",
    "\n",
    "# The Variables first_num, second_num and third_num are inatialized with 0,1 and 1\n",
    "first_num = 0  \n",
    "second_num =1\n",
    "third_num = 1\n",
    "print(\"Expected Output :\",end=\" \")\n",
    "print(second_num,end=\" \")   # printing the second_num for getting required output\n",
    "\n",
    "# The \"while\" runs 50 times using Operator \"<=\"\n",
    "while (third_num<=50):      \n",
    "    print(third_num, end=\" \")   # current value of third_num will be updateded everytime.and [end=\" \" parameter in the print statemet is used to display the numbers in a single line with spaces between them]\n",
    "    # Updating current values to first_num and second_num\n",
    "    first_num=second_num         \n",
    "    second_num=third_num \n",
    "    third_num=first_num+second_num   # # Storing the first_num and second_num in thrid_num using concatenation Operator\n",
    "   "
   ]
  },
  {
   "cell_type": "code",
   "execution_count": null,
   "id": "da457c77",
   "metadata": {},
   "outputs": [],
   "source": []
  }
 ],
 "metadata": {
  "kernelspec": {
   "display_name": "Python 3 (ipykernel)",
   "language": "python",
   "name": "python3"
  },
  "language_info": {
   "codemirror_mode": {
    "name": "ipython",
    "version": 3
   },
   "file_extension": ".py",
   "mimetype": "text/x-python",
   "name": "python",
   "nbconvert_exporter": "python",
   "pygments_lexer": "ipython3",
   "version": "3.10.9"
  }
 },
 "nbformat": 4,
 "nbformat_minor": 5
}
