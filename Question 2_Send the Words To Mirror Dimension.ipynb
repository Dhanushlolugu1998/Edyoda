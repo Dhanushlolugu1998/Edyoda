{
 "cells": [
  {
   "cell_type": "markdown",
   "id": "fc9dd56d",
   "metadata": {},
   "source": [
    "# Question 2:\n",
    "# Send the Words To Mirror Dimension"
   ]
  },
  {
   "cell_type": "markdown",
   "id": "597756a2",
   "metadata": {},
   "source": [
    "## Write a Python program that accepts a word from the user and reverse it.\n",
    "\n",
    "### Sample Test Case:\n",
    "\n",
    "# Input : Edyoda\n",
    "\n",
    "# output: adoydE"
   ]
  },
  {
   "cell_type": "markdown",
   "id": "14bb4cb8",
   "metadata": {},
   "source": [
    "# -------------------------------------------------------------------------------------------------\n",
    "# Using FOR Loop"
   ]
  },
  {
   "cell_type": "code",
   "execution_count": 1,
   "id": "74dfe16d",
   "metadata": {},
   "outputs": [
    {
     "name": "stdin",
     "output_type": "stream",
     "text": [
      "Enter the Input : Edyoda\n"
     ]
    },
    {
     "name": "stdout",
     "output_type": "stream",
     "text": [
      " reverse of the word is = adoydE\n"
     ]
    }
   ],
   "source": [
    "Name = str(input(\"Enter the Input :\"))   # Taking Input from USER [Give : Edyoda ]\n",
    "reverse = ''\n",
    "for i in range(len(Name), 0,-1):         # Using FOR LOOP\n",
    "   reverse += Name[i-1]                  # Reversing the word using Index's of input\n",
    "\n",
    "# print reverse of number\n",
    "print(' Reverse of the word is =', reverse)    # Printing the word to Mirror Dimension"
   ]
  },
  {
   "cell_type": "markdown",
   "id": "c8aec427",
   "metadata": {},
   "source": [
    "\n",
    "# Using WHILE Loop"
   ]
  },
  {
   "cell_type": "code",
   "execution_count": 2,
   "id": "4260a643",
   "metadata": {},
   "outputs": [
    {
     "name": "stdin",
     "output_type": "stream",
     "text": [
      "Enter the word to reverse : Edyoda\n"
     ]
    },
    {
     "name": "stdout",
     "output_type": "stream",
     "text": [
      "Reverse of the word is : adoydE"
     ]
    }
   ],
   "source": [
    "Name = str(input(\"Enter the word to reverse :\"))\n",
    "print(\"Reverse of the word is :\",end=\" \")\n",
    "for i in range(len(Name)-1,-1,-1):\n",
    "    print(Name[i],end=\"\")\n"
   ]
  },
  {
   "cell_type": "code",
   "execution_count": null,
   "id": "fcdbb087",
   "metadata": {},
   "outputs": [],
   "source": []
  }
 ],
 "metadata": {
  "kernelspec": {
   "display_name": "Python 3 (ipykernel)",
   "language": "python",
   "name": "python3"
  },
  "language_info": {
   "codemirror_mode": {
    "name": "ipython",
    "version": 3
   },
   "file_extension": ".py",
   "mimetype": "text/x-python",
   "name": "python",
   "nbconvert_exporter": "python",
   "pygments_lexer": "ipython3",
   "version": "3.10.9"
  }
 },
 "nbformat": 4,
 "nbformat_minor": 5
}
