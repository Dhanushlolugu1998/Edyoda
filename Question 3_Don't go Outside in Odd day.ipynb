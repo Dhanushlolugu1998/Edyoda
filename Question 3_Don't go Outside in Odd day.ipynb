{
 "cells": [
  {
   "cell_type": "markdown",
   "id": "73cc8e5e",
   "metadata": {},
   "source": [
    "# Question 3:\n",
    "# Don't go Outside in Odd day\n"
   ]
  },
  {
   "cell_type": "markdown",
   "id": "8bb93fcd",
   "metadata": {},
   "source": [
    "### Write a Python program to count the number of even and odd numbers from a series of numbers.\n",
    "\n",
    "### Sample numbers : numbers = (1, 2, 3, 4, 5, 6, 7, 8, 9) \n",
    "\n",
    "# Expected Output :\n",
    "- Number of even numbers : 4\n",
    "\n",
    "- Number of odd numbers : 5"
   ]
  },
  {
   "cell_type": "markdown",
   "id": "5a3a04c7",
   "metadata": {},
   "source": [
    "# Using FOR LOOP "
   ]
  },
  {
   "cell_type": "code",
   "execution_count": 25,
   "id": "f286daf4",
   "metadata": {},
   "outputs": [
    {
     "name": "stdin",
     "output_type": "stream",
     "text": [
      "Starting number :  1\n",
      "Ending number :  10\n"
     ]
    },
    {
     "name": "stdout",
     "output_type": "stream",
     "text": [
      "Expected Output :\n",
      "Number of even numbers : 4\n",
      "Number of odd numbers : 5\n"
     ]
    }
   ],
   "source": [
    "starting_range=int(input(\"Starting number : \"))   # Taking Input from USER  [Give: 1]\n",
    "ending_range =int(input(\"Ending number : \"))       # Taking Input from USER  [Give: 10]\n",
    "count_even= 0\n",
    "count_odd = 0\n",
    "print(\"Expected Output :\")\n",
    "for i in range(starting_range,ending_range): # Using For Loop and range from 1 to 10\n",
    "    if not i%2==0 :   # Using IF Condition and % and == operators\n",
    "        count_odd+=1    # Used for counting the ODD numbers and storing in count_odd\n",
    "    else:\n",
    "        count_even+=1   # Using ELSE Condition  and counting the EVEN numbers and storing in count_even\n",
    "print(\"Number of even numbers :\" ,count_even)     # Printing the required Output\n",
    "print(\"Number of odd numbers :\",count_odd)       # Printing the required Output"
   ]
  },
  {
   "cell_type": "code",
   "execution_count": null,
   "id": "041e4956-0e15-484c-adf1-794c3040a361",
   "metadata": {},
   "outputs": [],
   "source": []
  }
 ],
 "metadata": {
  "kernelspec": {
   "display_name": "Python 3 (ipykernel)",
   "language": "python",
   "name": "python3"
  },
  "language_info": {
   "codemirror_mode": {
    "name": "ipython",
    "version": 3
   },
   "file_extension": ".py",
   "mimetype": "text/x-python",
   "name": "python",
   "nbconvert_exporter": "python",
   "pygments_lexer": "ipython3",
   "version": "3.10.9"
  }
 },
 "nbformat": 4,
 "nbformat_minor": 5
}
