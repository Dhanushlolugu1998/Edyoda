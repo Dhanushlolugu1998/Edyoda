{
 "cells": [
  {
   "cell_type": "markdown",
   "id": "b07ac39b-d073-4232-818c-52b378ebf030",
   "metadata": {},
   "source": [
    "## Write a Python program to reverse a string.\n",
    "- Sample String : \"1234abcd\"\n",
    "- Expected Output : \"dcba4321\"\n",
    "\n"
   ]
  },
  {
   "cell_type": "code",
   "execution_count": 14,
   "id": "2b5539cb-3e9e-41f7-ba18-7ce9d197bb76",
   "metadata": {},
   "outputs": [
    {
     "name": "stdin",
     "output_type": "stream",
     "text": [
      "Enter a String : 1234abcd\n"
     ]
    },
    {
     "name": "stdout",
     "output_type": "stream",
     "text": [
      "Reversed String: dcba4321\n"
     ]
    }
   ],
   "source": [
    "def reverse_string(input_str):\n",
    "    reversed_str = input_str[::-1]\n",
    "    return reversed_str\n",
    "user_input=input(\"Enter a String :\")\n",
    "reversed_result=reverse_string(user_input)\n",
    "print(\"Reversed String:\",reversed_result)"
   ]
  }
 ],
 "metadata": {
  "kernelspec": {
   "display_name": "Python 3 (ipykernel)",
   "language": "python",
   "name": "python3"
  },
  "language_info": {
   "codemirror_mode": {
    "name": "ipython",
    "version": 3
   },
   "file_extension": ".py",
   "mimetype": "text/x-python",
   "name": "python",
   "nbconvert_exporter": "python",
   "pygments_lexer": "ipython3",
   "version": "3.10.9"
  }
 },
 "nbformat": 4,
 "nbformat_minor": 5
}
